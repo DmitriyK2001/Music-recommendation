{
 "cells": [
  {
   "cell_type": "code",
   "execution_count": 59,
   "metadata": {},
   "outputs": [
    {
     "ename": "ValueError",
     "evalue": "invalid literal for int() with base 10: '144 5 Энтузиаст написал программу для управления громкостью с помощью жестов, чтоб не вставать с дивана Благодаря ей он может регулировать громкость, показывая расстояние между большим и указательным",
     "output_type": "error",
     "traceback": [
      "\u001b[0;31m---------------------------------------------------------------------------\u001b[0m",
      "\u001b[0;31mValueError\u001b[0m                                Traceback (most recent call last)",
      "Cell \u001b[0;32mIn[59], line 1\u001b[0m\n\u001b[0;32m----> 1\u001b[0m need_len \u001b[39m=\u001b[39m \u001b[39mint\u001b[39;49m(\u001b[39minput\u001b[39;49m())\n\u001b[1;32m      2\u001b[0m n \u001b[39m=\u001b[39m \u001b[39mint\u001b[39m(\u001b[39minput\u001b[39m())\n\u001b[1;32m      3\u001b[0m list_of_str \u001b[39m=\u001b[39m \u001b[39mlist\u001b[39m()\n",
      "\u001b[0;31mValueError\u001b[0m: invalid literal for int() with base 10: '144 5 Энтузиаст написал программу для управления громкостью с помощью жестов, чтоб не вставать с дивана Благодаря ей он может регулировать громкость, показывая расстояние между большим и указательным"
     ]
    }
   ],
   "source": [
    "class Pencil():\n",
    "    def __init__(self, color = 'Black'):\n",
    "        self.color = color\n",
    "    \n",
    "    def draw_picture(self):\n",
    "        print(f'Picture drawn with {self.color} color.')\n",
    "\n",
    "class Pen(Pencil):\n",
    "    def __init__(self, color, pen_type):\n",
    "        super().__init__(color = color)\n",
    "        self.pen_type = pen_type\n",
    "\n",
    "    def sign_document(self):\n",
    "        return f'Document signed with {self.color} color with type {self.pen_type}.'\n",
    "\n",
    "    def draw_picture(self):\n",
    "        super().draw_picture()\n",
    "        print(f'Picture was drawn with {self.pen_type} type.')\n",
    "\n",
    "    def __str__(self):\n",
    "        return f'{self.color}, {self.pen_type}'\n",
    "\n",
    "pen = Pen('yellow', 'gelium')\n",
    "print(repr(pen))"
   ]
  },
  {
   "cell_type": "code",
   "execution_count": null,
   "metadata": {},
   "outputs": [],
   "source": [
    "n, m, q = list(map(int, input().split()))\n",
    "list_names = input().split()\n",
    "Matrix = []\n",
    "for i in range(n):\n",
    "    Matrix.append(list(map(int, input().split())))\n",
    "good_names = dict()\n",
    "for i in list_names:\n",
    "    good_names[i] = True\n",
    "for i in range(q):\n",
    "    mes = input().split()\n",
    "    \n"
   ]
  }
 ],
 "metadata": {
  "kernelspec": {
   "display_name": "Python 3",
   "language": "python",
   "name": "python3"
  },
  "language_info": {
   "codemirror_mode": {
    "name": "ipython",
    "version": 3
   },
   "file_extension": ".py",
   "mimetype": "text/x-python",
   "name": "python",
   "nbconvert_exporter": "python",
   "pygments_lexer": "ipython3",
   "version": "3.11.5"
  },
  "orig_nbformat": 4
 },
 "nbformat": 4,
 "nbformat_minor": 2
}
